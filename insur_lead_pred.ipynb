{
 "cells": [
  {
   "cell_type": "code",
   "execution_count": null,
   "metadata": {
    "collapsed": true
   },
   "outputs": [],
   "source": [
    "import pandas as pd\n",
    "import seaborn as sns\n",
    "import numpy as np\n",
    "import matplotlib.pyplot as plt"
   ]
  },
  {
   "cell_type": "code",
   "execution_count": null,
   "outputs": [],
   "source": [
    "df = pd.read_csv('C:\\\\Users\\\\anjah\\\\Documents\\\\faks\\\\magisterij\\\\1. Letnik\\\\strojno učenje\\\\seminarska\\\\raw_data.csv', sep = ',')"
   ],
   "metadata": {
    "collapsed": false
   }
  },
  {
   "cell_type": "code",
   "execution_count": null,
   "outputs": [],
   "source": [
    "df.head()"
   ],
   "metadata": {
    "collapsed": false
   }
  },
  {
   "cell_type": "code",
   "execution_count": null,
   "outputs": [],
   "source": [
    "df.info()"
   ],
   "metadata": {
    "collapsed": false
   }
  },
  {
   "cell_type": "code",
   "execution_count": null,
   "outputs": [],
   "source": [
    "df.describe()"
   ],
   "metadata": {
    "collapsed": false
   }
  },
  {
   "cell_type": "code",
   "execution_count": null,
   "outputs": [],
   "source": [
    "df['Health Indicator']=df['Health Indicator'].fillna(df['Health Indicator'].mode()[0])"
   ],
   "metadata": {
    "collapsed": false
   }
  },
  {
   "cell_type": "code",
   "execution_count": null,
   "outputs": [],
   "source": [
    "df['Holding_Policy_Type'] = df['Holding_Policy_Type'].fillna(df['Holding_Policy_Type'].mode()[0])\n",
    "df['Holding_Policy_Duration'] = df['Holding_Policy_Duration'].fillna(df['Holding_Policy_Duration'].mode()[0])"
   ],
   "metadata": {
    "collapsed": false
   }
  },
  {
   "cell_type": "code",
   "execution_count": null,
   "outputs": [],
   "source": [
    "correlation = df.corr().round(2)\n",
    "plt.figure(figsize = (14,7))\n",
    "comap = sns.color_palette(\"Spectral\", as_cmap=True)\n",
    "mask = np.triu(np.ones_like(df.corr()))\n",
    "dataplot = sns.heatmap(df.corr(), annot = True, cmap = comap, mask = mask)\n",
    "plt.savefig('C:\\\\Users\\\\anjah\\\\Documents\\\\faks\\\\magisterij\\\\1. Letnik\\\\strojno učenje\\\\seminarska\\\\corelations.png',format = 'png', bbox_inches = 'tight', bpi = 300)"
   ],
   "metadata": {
    "collapsed": false
   }
  },
  {
   "cell_type": "code",
   "execution_count": null,
   "outputs": [],
   "source": [
    "ne, ja = df['Response'].value_counts()\n",
    "fig = plt.figure(figsize=(7,5))\n",
    "plt.bar(0, ne, color = 'teal', width = 0.5)\n",
    "plt.title('Response')\n",
    "plt.bar(1, ja, color = 'slateblue', width = 0.5)\n",
    "plt.xticks([0,1])\n",
    "plt.savefig('C:\\\\Users\\\\anjah\\\\Documents\\\\faks\\\\magisterij\\\\1. Letnik\\\\strojno učenje\\\\seminarska\\\\response.png',format = 'png', bbox_inches = 'tight', bpi = 300)"
   ],
   "metadata": {
    "collapsed": false
   }
  },
  {
   "cell_type": "code",
   "execution_count": null,
   "outputs": [],
   "source": [
    "plt.figure(figsize = (15,15))\n",
    "\n",
    "\n",
    "\n",
    "plt.subplot(3,1,1)\n",
    "plt.title(\"City_Code\")\n",
    "sns.countplot(x = 'City_Code', hue= 'Response', palette=['teal','slateblue'], data = df)\n",
    "\n",
    "plt.subplot(3,1,2)\n",
    "sns.countplot(x = 'Health Indicator', hue= 'Response', palette=['teal','slateblue'], data = df)\n",
    "plt.title(\"Health Indicator\")\n",
    "\n",
    "plt.subplot(3,1,3)\n",
    "sns.countplot(x = 'Holding_Policy_Duration', hue= 'Response', palette=['teal','slateblue'], data = df)\n",
    "plt.title(\"Holding_Policy_Duration\")\n",
    "plt.savefig('C:\\\\Users\\\\anjah\\\\Documents\\\\faks\\\\magisterij\\\\1. Letnik\\\\strojno učenje\\\\seminarska\\\\comp_cc_hi_hpd.png',format = 'png', bbox_inches = 'tight', dpi = 300)"
   ],
   "metadata": {
    "collapsed": false
   }
  },
  {
   "cell_type": "code",
   "execution_count": null,
   "outputs": [],
   "source": [
    "plt.figure(figsize = (20,15))\n",
    "\n",
    "plt.subplot(2,3,1)\n",
    "sns.countplot(x = 'Accomodation_Type', hue= 'Response', palette=['teal','slateblue'], data = df)\n",
    "plt.title(\"Accomodation_Type\")\n",
    "\n",
    "plt.subplot(2,3,2)\n",
    "sns.countplot(x = 'Reco_Insurance_Type', hue= 'Response', palette=['teal','slateblue'], data = df)\n",
    "plt.title('Reco_Insurance_Type')\n",
    "\n",
    "plt.subplot(2,3,3)\n",
    "sns.countplot(x = 'Is_Spouse', hue= 'Response', palette=['teal','slateblue'], data = df)\n",
    "plt.title('Is_Spouse')\n",
    "\"\"\"\n",
    "plt.subplot(2,1,2)\n",
    "sns.countplot(x = 'Holding_Policy_Type', hue= 'Response', palette='hls', data = df)\n",
    "\"\"\"\n",
    "plt.savefig('C:\\\\Users\\\\anjah\\\\Documents\\\\faks\\\\magisterij\\\\1. Letnik\\\\strojno učenje\\\\seminarska\\\\at_rit_is.png',format = 'png', bbox_inches = 'tight', dpi = 300)"
   ],
   "metadata": {
    "collapsed": false
   }
  },
  {
   "cell_type": "markdown",
   "source": [
    "For prediction drop: ID, Holding_Policy_Duration, Holding_Policy_Type\n",
    "\n",
    "get_dummies --> pretvoriš catgerocial tako da dodaš stolpce in če je nek city code v vrstici je tam 1. Uporabiš za vse categorical!!!!!\n",
    "\n",
    "dodej data da bo bl enakomerna da in ne?"
   ],
   "metadata": {
    "collapsed": false
   }
  },
  {
   "cell_type": "code",
   "execution_count": null,
   "outputs": [],
   "source": [
    "df = df.drop('ID', 1)"
   ],
   "metadata": {
    "collapsed": false
   }
  },
  {
   "cell_type": "code",
   "execution_count": null,
   "outputs": [],
   "source": [
    "df['Is_Spouse'].replace(('Yes','No'), (1,0), inplace = True)\n",
    "df['Reco_Insurance_Type'].replace(('Individual', 'Joint'), (1,0), inplace = True)\n",
    "df['Accomodation_Type'].replace(('Owned','Rented'), (0,1), inplace = True)"
   ],
   "metadata": {
    "collapsed": false
   }
  },
  {
   "cell_type": "code",
   "execution_count": null,
   "outputs": [],
   "source": [
    "df['Health Indicator'].replace(('X1','X2','X3','X4','X5','X6','X7','X8','X9'), (0,1,2,3,4,5,6,7,8), inplace = True)"
   ],
   "metadata": {
    "collapsed": false
   }
  },
  {
   "cell_type": "code",
   "execution_count": null,
   "outputs": [],
   "source": [
    "df['Holding_Policy_Duration'].replace(('14+'), (14), inplace = True)"
   ],
   "metadata": {
    "collapsed": false
   }
  },
  {
   "cell_type": "code",
   "execution_count": null,
   "outputs": [],
   "source": [
    "df"
   ],
   "metadata": {
    "collapsed": false
   }
  },
  {
   "cell_type": "code",
   "execution_count": null,
   "outputs": [],
   "source": [
    "city_code = pd.get_dummies(df['City_Code'])\n",
    "df = pd.concat([df, city_code], axis = 1)\n",
    "df = df.drop('City_Code', axis = 1)"
   ],
   "metadata": {
    "collapsed": false
   }
  },
  {
   "cell_type": "code",
   "execution_count": null,
   "outputs": [],
   "source": [
    "response = (df['Response'])\n",
    "df = pd.concat([df, response], axis = 1)\n",
    "df = df.drop('Response', axis = 1)"
   ],
   "metadata": {
    "collapsed": false
   }
  },
  {
   "cell_type": "code",
   "execution_count": null,
   "outputs": [],
   "source": [
    "df['response'] = response"
   ],
   "metadata": {
    "collapsed": false
   }
  },
  {
   "cell_type": "code",
   "execution_count": null,
   "outputs": [],
   "source": [
    "#seperate into feature and target variables\n",
    "X = df.iloc[:,0:47].values\n",
    "Y = df.iloc[:, 47].values"
   ],
   "metadata": {
    "collapsed": false
   }
  },
  {
   "cell_type": "code",
   "execution_count": null,
   "outputs": [],
   "source": [
    "cnum = len(df.columns)\n",
    "cnum"
   ],
   "metadata": {
    "collapsed": false
   }
  },
  {
   "cell_type": "markdown",
   "source": [
    "v tem primeru je random over sampler\n",
    "lahko se drugi nacini over samplanja???"
   ],
   "metadata": {
    "collapsed": false
   }
  },
  {
   "cell_type": "code",
   "execution_count": null,
   "outputs": [],
   "source": [
    "# balancing classes (yes, no (1,0))\n",
    "from imblearn.over_sampling import RandomOverSampler\n",
    "ros = RandomOverSampler(random_state=0)\n",
    "X, Y = ros.fit_resample(X, Y)\n",
    "ax = sns.countplot(x=Y)\n"
   ],
   "metadata": {
    "collapsed": false
   }
  },
  {
   "cell_type": "markdown",
   "source": [
    "najprej brez scalanja\n",
    "lahko probas se standard scaling in min max scaling"
   ],
   "metadata": {
    "collapsed": false
   }
  },
  {
   "cell_type": "markdown",
   "source": [
    "Transforming Data into Train and Test, here we will use 30% of our data to test the machine learning models"
   ],
   "metadata": {
    "collapsed": false
   }
  },
  {
   "cell_type": "code",
   "execution_count": null,
   "outputs": [],
   "source": [
    "from sklearn.model_selection import train_test_split\n",
    "X_train, X_test, Y_train, Y_test = train_test_split(X, Y, test_size = 0.3, random_state = 0)"
   ],
   "metadata": {
    "collapsed": false
   }
  },
  {
   "cell_type": "markdown",
   "source": [
    "DECISION TREE"
   ],
   "metadata": {
    "collapsed": false
   }
  },
  {
   "cell_type": "code",
   "execution_count": null,
   "outputs": [],
   "source": [
    "min_split = np.array([2, 3, 4, 5, 6, 7])\n",
    "max_nvl = np.array(range(0,48))\n",
    "alg = ['entropy', 'gini']\n",
    "values_grid = {'min_samples_split': min_split, 'max_depth': max_nvl, 'criterion': alg}"
   ],
   "metadata": {
    "collapsed": false
   }
  },
  {
   "cell_type": "code",
   "execution_count": null,
   "outputs": [],
   "source": [
    "from sklearn.tree import DecisionTreeClassifier\n",
    "from sklearn.model_selection import GridSearchCV\n",
    "model = DecisionTreeClassifier()\n",
    "gridDecisionTree = GridSearchCV(estimator = model, param_grid = values_grid, cv = 5)"
   ],
   "metadata": {
    "collapsed": false
   }
  },
  {
   "cell_type": "markdown",
   "source": [
    "tuki finetunamo hyperparameters"
   ],
   "metadata": {
    "collapsed": false
   }
  },
  {
   "cell_type": "code",
   "execution_count": null,
   "outputs": [],
   "source": [
    "gridDecisionTree.fit(X_train, Y_train)"
   ],
   "metadata": {
    "collapsed": false
   }
  },
  {
   "cell_type": "code",
   "execution_count": null,
   "outputs": [],
   "source": [
    "print('Mín Split: ', gridDecisionTree.best_estimator_.min_samples_split)\n",
    "print('Max Nvl: ', gridDecisionTree.best_estimator_.max_depth)\n",
    "print('Algorithm: ', gridDecisionTree.best_estimator_.criterion)\n",
    "print('Score: ', gridDecisionTree.best_score_)"
   ],
   "metadata": {
    "collapsed": false
   }
  },
  {
   "cell_type": "markdown",
   "source": [
    "RUNNING DECISION TREE"
   ],
   "metadata": {
    "collapsed": false
   }
  },
  {
   "cell_type": "code",
   "execution_count": null,
   "outputs": [],
   "source": [
    "decision_tree = DecisionTreeClassifier(criterion = 'gini', min_samples_split = 3, max_depth= 100, random_state=0)"
   ],
   "metadata": {
    "collapsed": false
   }
  },
  {
   "cell_type": "code",
   "execution_count": null,
   "outputs": [],
   "source": [
    "decision_tree = DecisionTreeClassifier()"
   ],
   "metadata": {
    "collapsed": false
   }
  },
  {
   "cell_type": "code",
   "execution_count": null,
   "outputs": [],
   "source": [
    "decision_tree.fit(X_train, Y_train)"
   ],
   "metadata": {
    "collapsed": false
   }
  },
  {
   "cell_type": "code",
   "execution_count": null,
   "outputs": [],
   "source": [
    "pred_tests = decision_tree.predict(X_test)"
   ],
   "metadata": {
    "collapsed": false
   }
  },
  {
   "cell_type": "code",
   "execution_count": null,
   "outputs": [],
   "source": [
    "from sklearn.metrics import confusion_matrix, ConfusionMatrixDisp\n",
    "cm = confusion_matrix(Y_test,pred_tests, labels = decision_tree.classes_)\n",
    "vis = ConfusionMatrixDisplay(confusion_matrix=cm,\n",
    "                              display_labels=decision_tree.classes_)\n",
    "vis.plot(cmap = 'viridis')\n",
    "vis.ax_.set_title(\"Decision tree\")\n",
    "vis.ax_.grid()\n",
    "vis.figure_.savefig('Dtree_cm.png', dpi = 300)"
   ],
   "metadata": {
    "collapsed": false
   }
  },
  {
   "cell_type": "code",
   "execution_count": null,
   "outputs": [],
   "source": [
    "from sklearn.metrics import accuracy_score, confusion_matrix, classification_report\n",
    "classification_decision = (classification_report(Y_test, pred_tests))\n",
    "print(classification_decision)"
   ],
   "metadata": {
    "collapsed": false
   }
  },
  {
   "cell_type": "code",
   "execution_count": null,
   "outputs": [],
   "source": [
    "dtree_CA = 0.83"
   ],
   "metadata": {
    "collapsed": false
   }
  },
  {
   "cell_type": "markdown",
   "source": [
    "Preverimo kateri attributi najbolj vplivajo --> ignoriramo ostale mogoče bo boljši score. OCENA ATRIBUTOV ZA DECISION TREE"
   ],
   "metadata": {
    "collapsed": false
   }
  },
  {
   "cell_type": "markdown",
   "source": [
    "VZAMIMO SAMO NAJPOMEMBNEJŠE FEATURSE: MEJA JE 0.03    NE POMAGAAA :(  CA = 0.618"
   ],
   "metadata": {
    "collapsed": false
   }
  },
  {
   "cell_type": "markdown",
   "source": [
    "RANDOM FOREST !!!!!!!!!!!"
   ],
   "metadata": {
    "collapsed": false
   }
  },
  {
   "cell_type": "markdown",
   "source": [],
   "metadata": {
    "collapsed": false
   }
  },
  {
   "cell_type": "code",
   "execution_count": null,
   "outputs": [],
   "source": [
    "from sklearn.ensemble import RandomForestClassifier\n",
    "n_estimators = np.array([100])\n",
    "est = ['entropy', 'gini']\n",
    "values_grid = {'n_estimators': n_estimators, 'criterion': est}"
   ],
   "metadata": {
    "collapsed": false
   }
  },
  {
   "cell_type": "code",
   "execution_count": null,
   "outputs": [],
   "source": [
    "model = RandomForestClassifier()\n",
    "gridRandomForest = GridSearchCV(estimator = model, param_grid = values_grid, cv = 10)\n",
    "gridRandomForest.fit(X_train, Y_train)"
   ],
   "metadata": {
    "collapsed": false
   }
  },
  {
   "cell_type": "code",
   "execution_count": null,
   "outputs": [],
   "source": [
    "print('Algorithm: ', gridRandomForest.best_estimator_.criterion)\n",
    "print('Score: ', gridRandomForest.best_score_)"
   ],
   "metadata": {
    "collapsed": false
   }
  },
  {
   "cell_type": "code",
   "execution_count": null,
   "outputs": [],
   "source": [
    "gridRandomForest.best_params_\n"
   ],
   "metadata": {
    "collapsed": false
   }
  },
  {
   "cell_type": "markdown",
   "source": [
    "spet izberemo gini"
   ],
   "metadata": {
    "collapsed": false
   }
  },
  {
   "cell_type": "code",
   "execution_count": null,
   "outputs": [],
   "source": [
    "random_forest = RandomForestClassifier()\n",
    "random_forest.fit(X_train, Y_train)"
   ],
   "metadata": {
    "collapsed": false
   }
  },
  {
   "cell_type": "code",
   "execution_count": null,
   "outputs": [],
   "source": [
    "pred_tests = random_forest.predict(X_test)"
   ],
   "metadata": {
    "collapsed": false
   }
  },
  {
   "cell_type": "code",
   "execution_count": null,
   "outputs": [],
   "source": [
    "cm_rf = confusion_matrix(Y_test,pred_tests, labels = decision_tree.classes_)\n",
    "disp_rf = ConfusionMatrixDisplay(confusion_matrix=cm_rf,\n",
    "                              display_labels=decision_tree.classes_)\n",
    "disp_rf.plot(cmap = 'viridis')\n",
    "disp_rf.ax_.set_title(\"Random forrest\")\n",
    "disp_rf.ax_.grid()\n",
    "disp_rf.figure_.savefig('rforrest_cm.png', dpi = 300)"
   ],
   "metadata": {
    "collapsed": false
   }
  },
  {
   "cell_type": "code",
   "execution_count": null,
   "outputs": [],
   "source": [
    "classification_random = (classification_report(Y_test, pred_tests))\n",
    "print(classification_random)\n"
   ],
   "metadata": {
    "collapsed": false
   }
  },
  {
   "cell_type": "code",
   "execution_count": null,
   "outputs": [],
   "source": [
    "rforrest_CA = 0.895"
   ],
   "metadata": {
    "collapsed": false
   }
  },
  {
   "cell_type": "markdown",
   "source": [
    "LOGISTIC REGRESSION"
   ],
   "metadata": {
    "collapsed": false
   }
  },
  {
   "cell_type": "code",
   "execution_count": null,
   "outputs": [],
   "source": [
    "from sklearn.linear_model import LogisticRegression\n",
    "logistic = LogisticRegression(random_state =45 )\n",
    "logistic.fit(X_train, Y_train)"
   ],
   "metadata": {
    "collapsed": false
   }
  },
  {
   "cell_type": "code",
   "execution_count": null,
   "outputs": [],
   "source": [
    "pred_tests = logistic.predict(X_test)"
   ],
   "metadata": {
    "collapsed": false
   }
  },
  {
   "cell_type": "code",
   "execution_count": null,
   "outputs": [],
   "source": [
    "cm_lr = confusion_matrix(Y_test,pred_tests, labels = logistic.classes_)\n",
    "disp_lr = ConfusionMatrixDisplay(confusion_matrix=cm_lr,\n",
    "                              display_labels=logistic.classes_)\n",
    "disp_lr.plot(cmap = 'viridis')\n",
    "disp_lr.ax_.set_title(\"Logistic regression\")\n",
    "disp_lr.ax_.grid()\n",
    "disp_lr.figure_.savefig('logreg_cm.png', dpi = 300)"
   ],
   "metadata": {
    "collapsed": false
   }
  },
  {
   "cell_type": "code",
   "execution_count": null,
   "outputs": [],
   "source": [
    "logistic_normal = (classification_report(Y_test, pred_tests))\n",
    "print(logistic_normal)"
   ],
   "metadata": {
    "collapsed": false
   }
  },
  {
   "cell_type": "code",
   "execution_count": null,
   "outputs": [],
   "source": [
    "logreg_CA = 0.545"
   ],
   "metadata": {
    "collapsed": false
   }
  },
  {
   "cell_type": "markdown",
   "source": [
    "NAIVE BAYES"
   ],
   "metadata": {
    "collapsed": false
   }
  },
  {
   "cell_type": "code",
   "execution_count": null,
   "outputs": [],
   "source": [
    "from sklearn.model_selection import RepeatedStratifiedKFold\n",
    "from sklearn.naive_bayes import GaussianNB\n",
    "nb_classifier = GaussianNB()\n",
    "\n",
    "params_NB = {'var_smoothing': np.logspace(0,-9, num=100)}\n",
    "gs_NB = GridSearchCV(estimator=nb_classifier,\n",
    "                 param_grid=params_NB,\n",
    "                 cv=RepeatedStratifiedKFold(n_splits=10, n_repeats=3, random_state=1),   # use any cross validation technique\n",
    "                 verbose=1,\n",
    "                 scoring='accuracy')\n",
    "gs_NB.fit(X_train, Y_train)\n",
    "\n",
    "gs_NB.best_params_"
   ],
   "metadata": {
    "collapsed": false
   }
  },
  {
   "cell_type": "code",
   "execution_count": null,
   "outputs": [],
   "source": [
    "from sklearn.naive_bayes import GaussianNB\n",
    "naive_bayes = GaussianNB(var_smoothing= 2.310129700083158e-09)\n",
    "naive_bayes.fit(X_train, Y_train)"
   ],
   "metadata": {
    "collapsed": false
   }
  },
  {
   "cell_type": "code",
   "execution_count": null,
   "outputs": [],
   "source": [
    "pred_tests_nb = naive_bayes.predict(X_test)"
   ],
   "metadata": {
    "collapsed": false
   }
  },
  {
   "cell_type": "code",
   "execution_count": null,
   "outputs": [],
   "source": [
    "cm_nb = confusion_matrix(Y_test,pred_tests_nb, labels = naive_bayes.classes_)\n",
    "disp_nb = ConfusionMatrixDisplay(confusion_matrix=cm_nb,\n",
    "                              display_labels=naive_bayes.classes_)\n",
    "disp_nb.plot(cmap = 'viridis')\n",
    "disp_nb.ax_.set_title(\"Naive Bayes\")\n",
    "disp_nb.ax_.grid()\n",
    "disp_nb.figure_.savefig('naiveB_cm.png', dpi = 300)"
   ],
   "metadata": {
    "collapsed": false
   }
  },
  {
   "cell_type": "code",
   "execution_count": null,
   "outputs": [],
   "source": [
    "nBayes_CA = 0.552"
   ],
   "metadata": {
    "collapsed": false
   }
  },
  {
   "cell_type": "markdown",
   "source": [
    "K SOSEDI"
   ],
   "metadata": {
    "collapsed": false
   }
  },
  {
   "cell_type": "code",
   "execution_count": null,
   "outputs": [],
   "source": [
    "from sklearn.neighbors import KNeighborsClassifier\n",
    "from sklearn.model_selection import GridSearchCV\n",
    "from sklearn.svm import SVR\n",
    "knn = KNeighborsClassifier()"
   ],
   "metadata": {
    "collapsed": false
   }
  },
  {
   "cell_type": "code",
   "execution_count": null,
   "outputs": [],
   "source": [
    "k = list(range(1,10))\n",
    "k_values = dict(n_neighbors = k_list)\n",
    "grid = GridSearchCV(knn, k_values, cv = 10, scoring = 'accuracy')\n",
    "grid.fit(X_train, Y_train)"
   ],
   "metadata": {
    "collapsed": false
   }
  },
  {
   "cell_type": "code",
   "execution_count": null,
   "outputs": [],
   "source": [
    "grid.param_grid, grid.best_score_"
   ],
   "metadata": {
    "collapsed": false
   }
  },
  {
   "cell_type": "code",
   "execution_count": null,
   "outputs": [],
   "source": [
    "grid.best_params_, grid.best_score_"
   ],
   "metadata": {
    "collapsed": false
   }
  },
  {
   "cell_type": "code",
   "execution_count": null,
   "outputs": [],
   "source": [
    "knn = KNeighborsClassifier(n_neighbors = 1, metric = 'minkowski', p = 2)\n",
    "knn.fit(X_train, Y_train)"
   ],
   "metadata": {
    "collapsed": false
   }
  },
  {
   "cell_type": "code",
   "execution_count": null,
   "outputs": [],
   "source": [
    "pred_tests_k = knn.predict(X_test)"
   ],
   "metadata": {
    "collapsed": false
   }
  },
  {
   "cell_type": "code",
   "execution_count": null,
   "outputs": [],
   "source": [
    "cm_knn = confusion_matrix(Y_test,pred_tests_k, labels = knn.classes_)\n",
    "disp_knn = ConfusionMatrixDisplay(confusion_matrix=cm_knn,\n",
    "                              display_labels=knn.classes_)\n",
    "disp_knn.plot(cmap = 'viridis')\n",
    "disp_knn.ax_.set_title(\"K nearest neibghbors\")\n",
    "disp_knn.ax_.grid()\n",
    "disp_knn.figure_.savefig('knn_cm.png')"
   ],
   "metadata": {
    "collapsed": false
   }
  },
  {
   "cell_type": "code",
   "execution_count": null,
   "outputs": [],
   "source": [
    "knn_CA = 0.814"
   ],
   "metadata": {
    "collapsed": false
   }
  },
  {
   "cell_type": "markdown",
   "source": [
    "COMBINE MACHINE LEARNING MODELS - VOTING"
   ],
   "metadata": {
    "collapsed": false
   }
  },
  {
   "cell_type": "markdown",
   "source": [
    "+ bayes : ca = 0.789    bed\n",
    "+ bayes + knn: ca = 0.837\n",
    "dejmo zbrisat bayesa\n",
    "+ brez bayesa ca=0.834"
   ],
   "metadata": {
    "collapsed": false
   }
  },
  {
   "cell_type": "markdown",
   "source": [
    "S cross validation!"
   ],
   "metadata": {
    "collapsed": false
   }
  },
  {
   "cell_type": "code",
   "execution_count": null,
   "outputs": [],
   "source": [
    "\n",
    "# compare standalone models for binary classification\n",
    "from numpy import mean\n",
    "from numpy import std\n",
    "from sklearn.datasets import make_classification\n",
    "from sklearn.model_selection import cross_val_score\n",
    "from sklearn.model_selection import RepeatedStratifiedKFold\n",
    "from sklearn.linear_model import LogisticRegression\n",
    "from sklearn.neighbors import KNeighborsClassifier\n",
    "from sklearn.tree import DecisionTreeClassifier\n",
    "from sklearn.svm import SVC\n",
    "from sklearn.naive_bayes import GaussianNB\n",
    "from matplotlib import pyplot\n",
    "\n",
    "\n",
    "# get a list of models to evaluate\n",
    "def get_models():\n",
    "    models = dict()\n",
    "    models['lr'] = LogisticRegression()\n",
    "    models['knn'] = KNeighborsClassifier(n_neighbors = 1, metric = 'minkowski', p = 2)\n",
    "    models['cart'] = DecisionTreeClassifier()\n",
    "    models['rf'] = RandomForestClassifier()\n",
    "    models['bayes'] = GaussianNB()\n",
    "    return models\n",
    "\n",
    "# evaluate a given model using cross-validation\n",
    "def evaluate_model(model, X, y):\n",
    "    cv = RepeatedStratifiedKFold(n_splits=10, n_repeats=10, random_state=1)\n",
    "    scores = cross_val_score(model, X, y, scoring='accuracy', cv=cv, n_jobs=-1, error_score='raise')\n",
    "    return scores\n",
    "\n",
    "# get the models to evaluate\n",
    "models = get_models()\n",
    "# evaluate the models and store results\n",
    "results, names = list(), list()\n",
    "for name, model in models.items():\n",
    "    scores = evaluate_model(model, X, Y)\n",
    "    results.append(scores)\n",
    "    names.append(name)\n",
    "    print('>%s %.3f (%.3f)' % (name, mean(scores), std(scores)))\n",
    "# plot model performance for comparison\n",
    "pyplot.boxplot(results, labels=names, showmeans=True)\n",
    "pyplot.show()\n",
    "pyplot.savefig('')"
   ],
   "metadata": {
    "collapsed": false
   }
  },
  {
   "cell_type": "code",
   "execution_count": null,
   "outputs": [],
   "source": [
    "\n",
    "from numpy import mean\n",
    "from numpy import std\n",
    "from matplotlib import pyplot\n",
    "\n",
    "# get the dataset\n",
    "\n",
    "def get_stacking():\n",
    " # define the base models\n",
    "     level0 = list()\n",
    "     level0.append(('lr', LogisticRegression()))\n",
    "     level0.append(('knn', KNeighborsClassifier(n_neighbors = 1, metric = 'minkowski', p = 2)))\n",
    "     level0.append(('dt', DecisionTreeClassifier()))\n",
    "     level0.append(('rf', RandomForestClassifier()))\n",
    "     level0.append(('bayes', GaussianNB(var_smoothing= 2.310129700083158e-09)))\n",
    "     # define meta learner model\n",
    "     level1 = GaussianNB()\n",
    "     # define the stacking ensemble\n",
    "     model = StackingClassifier(estimators=level0, final_estimator=level1, cv=5)\n",
    "     return model\n",
    "# get a list of models to evaluate\n",
    "def get_models():\n",
    "    models = dict()\n",
    "    models['lr'] = LogisticRegression()\n",
    "    models['knn'] = KNeighborsClassifier(n_neighbors = 1, metric = 'minkowski', p = 2)\n",
    "    models['dt'] = DecisionTreeClassifier()\n",
    "    models['rf'] = RandomForestClassifier()\n",
    "    models['bayes'] = GaussianNB(var_smoothing= 2.310129700083158e-09)\n",
    "    models['stacking'] = get_stacking()\n",
    "    return models\n",
    "\n",
    "# evaluate a given model using cross-validation\n",
    "def evaluate_model(model, X, y):\n",
    "    cv = RepeatedStratifiedKFold(n_splits=10, n_repeats=10, random_state=1)\n",
    "    scores = cross_val_score(model, X, y, scoring='accuracy', cv=cv, n_jobs=-1, error_score='raise')\n",
    "    return scores\n",
    "\n",
    "# define dataset\n",
    "\n",
    "# get the models to evaluate\n",
    "models = get_models()\n",
    "# evaluate the models and store results\n",
    "results, names = list(), list()\n",
    "for name, model in models.items():\n",
    "    scores = evaluate_model(model, X, Y)\n",
    "    results.append(scores)\n",
    "    names.append(name)\n",
    "    print('>%s %.3f (%.3f)' % (name, mean(scores), std(scores)))\n",
    "# plot model performance for comparison\n",
    "pyplot.boxplot(results, labels=names, showmeans=True)\n",
    "pyplot.show()"
   ],
   "metadata": {
    "collapsed": false
   }
  },
  {
   "cell_type": "code",
   "execution_count": null,
   "outputs": [],
   "source": [
    "from numpy import mean\n",
    "from numpy import std\n",
    "\n",
    "from sklearn.model_selection import cross_val_score\n",
    "from sklearn.model_selection import RepeatedStratifiedKFold\n",
    "from sklearn.linear_model import LogisticRegression\n",
    "from sklearn.neighbors import KNeighborsClassifier\n",
    "from sklearn.tree import DecisionTreeClassifier\n",
    "from sklearn.naive_bayes import GaussianNB\n",
    "from sklearn.ensemble import StackingClassifier\n",
    "from matplotlib import pyplot\n",
    "\n",
    "# get the dataset\n",
    "\n",
    "def get_stacking():\n",
    " # define the base models\n",
    "     level0 = list()\n",
    "     level0.append(('lr', LogisticRegression()))\n",
    "     level0.append(('knn', KNeighborsClassifier(n_neighbors = 1, metric = 'minkowski', p = 2)))\n",
    "     level0.append(('dt', DecisionTreeClassifier()))\n",
    "     level0.append(('rf', RandomForestClassifier()))\n",
    "     level0.append(('bayes', GaussianNB(var_smoothing= 2.310129700083158e-09)))\n",
    "     # define meta learner model\n",
    "     level1 = GaussianNB()\n",
    "     # define the stacking ensemble\n",
    "     model = StackingClassifier(estimators=level0, final_estimator=level1, cv=5)\n",
    "     return model\n",
    "# get a list of models to evaluate\n",
    "def get_models():\n",
    "    models = dict()\n",
    "    #models['lr'] = LogisticRegression()\n",
    "    #models['knn'] = KNeighborsClassifier(n_neighbors = 1, metric = 'minkowski', p = 2)\n",
    "    #models['dt'] = DecisionTreeClassifier()\n",
    "    #models['rf'] = RandomForestClassifier()\n",
    "    #models['bayes'] = GaussianNB(var_smoothing= 2.310129700083158e-09)\n",
    "    models['stacking'] = get_stacking()\n",
    "    return models\n",
    "\n",
    "# evaluate a given model using cross-validation\n",
    "def evaluate_model(model, X, y):\n",
    "    cv = RepeatedStratifiedKFold(n_splits=10, n_repeats=10, random_state=1)\n",
    "    scores = cross_val_score(model, X, y, scoring='accuracy', cv=cv, n_jobs=-1, error_score='raise')\n",
    "    return scores\n",
    "\n",
    "# define dataset\n",
    "\n",
    "# get the models to evaluate\n",
    "models_stac = get_models()\n",
    "# evaluate the models and store results\n",
    "results_stac, names_stac = list(), list()\n",
    "for name, model in models_stac.items():\n",
    "    scores_stac = evaluate_model(model, X, Y)\n",
    "    results_stac.append(scores_stac)\n",
    "    names_stac.append(name)\n",
    "    print('>%s %.3f (%.3f)' % (name, mean(scores), std(scores)))\n",
    "# plot model performance for comparison\n",
    "pyplot.boxplot(results_stac, labels=names, showmeans=True)\n",
    "pyplot.show()"
   ],
   "metadata": {
    "collapsed": false
   }
  },
  {
   "cell_type": "code",
   "execution_count": null,
   "outputs": [],
   "source": [
    "pyplot.boxplot(results, labels=names, showmeans=True)\n",
    "pyplot.title('Comparison of models')\n",
    "pyplot.ylabel('Classification accuracy')\n",
    "pyplot.xticks([1,2,3,4,5,6],['LRM', 'KNN', 'DT','RFC', 'NB', 'stacking'])\n",
    "pyplot.savefig('comparison of models', dpi=300)\n",
    "pyplot.show()\n"
   ],
   "metadata": {
    "collapsed": false
   }
  },
  {
   "cell_type": "code",
   "execution_count": null,
   "outputs": [],
   "source": [
    "results"
   ],
   "metadata": {
    "collapsed": false
   }
  },
  {
   "cell_type": "code",
   "execution_count": null,
   "outputs": [],
   "source": [
    "import matplotlib.pyplot as plt\n",
    "import numpy as np\n",
    "\n",
    "data = np.linspace(-20, 20, 200)\n",
    "sm = 1/(1 + np.exp(-data))\n",
    "x1, y1 = [-30, 30], [1, 1]\n",
    "x2, y2 = [-30,30],[0.5,0.5]\n",
    "fig = plt.figure(figsize=(5,4))\n",
    "plt.plot(data, sm, color = 'slateblue')\n",
    "plt.xlabel(\"X\")\n",
    "plt.ylabel(\"Probability of the event \\n occurring\", fontsize = 13)\n",
    "plt.xticks(ticks = [], labels = [])\n",
    "plt.yticks([0,1],[0,1])\n",
    "plt.plot(x1,y1, linestyle='dotted', color = 'coral')\n",
    "#plt.title('Logistic regression')\n",
    "plt.plot([-12,-4,-7,-2,-3,2,3,6,13,7,-13, -5, -9, 11, 2.5,5],[0.005,0.01,0.02,0.1,0.13,0.8,0.94,0.95,0.98,0.99, 0.003, 0.025, 0.002,0.989,0.9,0.97], lw = 0, ms = 10, marker = 'o', alpha = 0.5)\n",
    "plt.plot(x2,y2, linestyle = 'dashed', color = 'forestgreen', lw = 1)\n",
    "\n",
    "fig.text(0.75,0.52,'threshold', fontsize = 12)\n",
    "\n",
    "plt.xlim(-20,20)\n",
    "plt.grid()\n",
    "plt.savefig('logistic_regression', dpi = 300)\n",
    "\n",
    "plt.show()"
   ],
   "metadata": {
    "collapsed": false
   }
  },
  {
   "cell_type": "code",
   "execution_count": null,
   "outputs": [],
   "source": [
    "models"
   ],
   "metadata": {
    "collapsed": false
   }
  }
 ],
 "metadata": {
  "kernelspec": {
   "name": "conda-env-biohw3-py",
   "language": "python",
   "display_name": "Python [conda env:biohw3] *"
  },
  "language_info": {
   "codemirror_mode": {
    "name": "ipython",
    "version": 2
   },
   "file_extension": ".py",
   "mimetype": "text/x-python",
   "name": "python",
   "nbconvert_exporter": "python",
   "pygments_lexer": "ipython2",
   "version": "2.7.6"
  }
 },
 "nbformat": 4,
 "nbformat_minor": 0
}
